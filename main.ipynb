{
 "cells": [
  {
   "cell_type": "code",
   "execution_count": 2,
   "metadata": {},
   "outputs": [],
   "source": [
    "from langchain_community.document_loaders import JSONLoader"
   ]
  },
  {
   "cell_type": "code",
   "execution_count": 68,
   "metadata": {},
   "outputs": [
    {
     "data": {
      "text/plain": [
       "list"
      ]
     },
     "execution_count": 68,
     "metadata": {},
     "output_type": "execute_result"
    }
   ],
   "source": [
    "type(data)"
   ]
  },
  {
   "cell_type": "code",
   "execution_count": 83,
   "metadata": {},
   "outputs": [
    {
     "data": {
      "text/plain": [
       "list"
      ]
     },
     "execution_count": 83,
     "metadata": {},
     "output_type": "execute_result"
    }
   ],
   "source": [
    "loader = JSONLoader(\n",
    "    file_path='sample.json',\n",
    "    text_content=False,\n",
    "    jq_schema='.faqs[]')\n",
    "\n",
    "data = loader.load()\n",
    "type(data)"
   ]
  },
  {
   "cell_type": "code",
   "execution_count": 84,
   "metadata": {},
   "outputs": [
    {
     "name": "stdout",
     "output_type": "stream",
     "text": [
      "188\n",
      "194\n",
      "286\n",
      "241\n",
      "272\n"
     ]
    }
   ],
   "source": [
    "for i in range(len(data)):\n",
    "    print(len(data[i].page_content))"
   ]
  },
  {
   "cell_type": "code",
   "execution_count": 88,
   "metadata": {},
   "outputs": [],
   "source": [
    "from langchain_text_splitters import CharacterTextSplitter, RecursiveCharacterTextSplitter\n",
    "\n",
    "# splitter = RecursiveJsonSplitter(max_chunk_size=300)\n",
    "splitter = CharacterTextSplitter(chunk_overlap=0, chunk_size=300)"
   ]
  },
  {
   "cell_type": "code",
   "execution_count": 87,
   "metadata": {},
   "outputs": [
    {
     "data": {
      "text/plain": [
       "[Document(metadata={'source': '/Users/sidhantsriv/code/projects/yantra/sample.json', 'seq_num': 1}, page_content='{\"question\": \"What is Python?\", \"tags\": [\"programming\", \"python\", \"basics\"], \"answer\": \"Python is a high-level, interpreted programming language known for its simplicity and versatility.\"}'),\n",
       " Document(metadata={'source': '/Users/sidhantsriv/code/projects/yantra/sample.json', 'seq_num': 2}, page_content='{\"question\": \"What is Pydantic?\", \"tags\": [\"python\", \"validation\", \"models\"], \"answer\": \"Pydantic is a Python library for data validation and settings management using Python type annotations.\"}'),\n",
       " Document(metadata={'source': '/Users/sidhantsriv/code/projects/yantra/sample.json', 'seq_num': 3}, page_content='{\"question\": \"How do I create a virtual environment in Python?\", \"tags\": [\"python\", \"virtualenv\", \"environment\"], \"answer\": \"You can create a virtual environment in Python by running `python -m venv <env_name>` and activating it using the respective command for your operating system.\"}'),\n",
       " Document(metadata={'source': '/Users/sidhantsriv/code/projects/yantra/sample.json', 'seq_num': 4}, page_content='{\"question\": \"What is JSON?\", \"tags\": [\"json\", \"data\", \"format\"], \"answer\": \"JSON (JavaScript Object Notation) is a lightweight data-interchange format that is easy for humans to read and write, and easy for machines to parse and generate.\"}'),\n",
       " Document(metadata={'source': '/Users/sidhantsriv/code/projects/yantra/sample.json', 'seq_num': 5}, page_content='{\"question\": \"What is an API?\", \"tags\": [\"api\", \"web\", \"interface\"], \"answer\": \"An API (Application Programming Interface) is a set of rules and protocols for building and interacting with software applications, allowing different systems to communicate with each other.\"}')]"
      ]
     },
     "execution_count": 87,
     "metadata": {},
     "output_type": "execute_result"
    }
   ],
   "source": [
    "data"
   ]
  },
  {
   "cell_type": "code",
   "execution_count": 89,
   "metadata": {},
   "outputs": [],
   "source": [
    "texts = splitter.split_documents(data)"
   ]
  },
  {
   "cell_type": "code",
   "execution_count": 91,
   "metadata": {},
   "outputs": [
    {
     "data": {
      "text/plain": [
       "[Document(metadata={'source': '/Users/sidhantsriv/code/projects/yantra/sample.json', 'seq_num': 1}, page_content='{\"question\": \"What is Python?\", \"tags\": [\"programming\", \"python\", \"basics\"], \"answer\": \"Python is a high-level, interpreted programming language known for its simplicity and versatility.\"}'),\n",
       " Document(metadata={'source': '/Users/sidhantsriv/code/projects/yantra/sample.json', 'seq_num': 2}, page_content='{\"question\": \"What is Pydantic?\", \"tags\": [\"python\", \"validation\", \"models\"], \"answer\": \"Pydantic is a Python library for data validation and settings management using Python type annotations.\"}'),\n",
       " Document(metadata={'source': '/Users/sidhantsriv/code/projects/yantra/sample.json', 'seq_num': 3}, page_content='{\"question\": \"How do I create a virtual environment in Python?\", \"tags\": [\"python\", \"virtualenv\", \"environment\"], \"answer\": \"You can create a virtual environment in Python by running `python -m venv <env_name>` and activating it using the respective command for your operating system.\"}'),\n",
       " Document(metadata={'source': '/Users/sidhantsriv/code/projects/yantra/sample.json', 'seq_num': 4}, page_content='{\"question\": \"What is JSON?\", \"tags\": [\"json\", \"data\", \"format\"], \"answer\": \"JSON (JavaScript Object Notation) is a lightweight data-interchange format that is easy for humans to read and write, and easy for machines to parse and generate.\"}'),\n",
       " Document(metadata={'source': '/Users/sidhantsriv/code/projects/yantra/sample.json', 'seq_num': 5}, page_content='{\"question\": \"What is an API?\", \"tags\": [\"api\", \"web\", \"interface\"], \"answer\": \"An API (Application Programming Interface) is a set of rules and protocols for building and interacting with software applications, allowing different systems to communicate with each other.\"}')]"
      ]
     },
     "execution_count": 91,
     "metadata": {},
     "output_type": "execute_result"
    }
   ],
   "source": [
    "data"
   ]
  },
  {
   "cell_type": "code",
   "execution_count": 98,
   "metadata": {},
   "outputs": [],
   "source": [
    "import os\n",
    "from dotenv import load_dotenv\n",
    "\n",
    "load_dotenv()\n",
    "COHERE_API = os.environ.get(\"COHERE_API\")\n",
    "SUPABASE_SERVICE_KEY=os.environ.get(\"SUPABASE_SERVICE_KEY\")\n",
    "SUPABASE_URL=\"https://uggjxkgfewdwgxbdivox.supabase.co\"\n",
    "\n"
   ]
  },
  {
   "cell_type": "code",
   "execution_count": 108,
   "metadata": {},
   "outputs": [],
   "source": [
    "from langchain_cohere import CohereEmbeddings\n",
    "\n",
    "embeddings = CohereEmbeddings(cohere_api_key=COHERE_API,model=\"embed-english-v3.0\")\n"
   ]
  },
  {
   "cell_type": "code",
   "execution_count": 100,
   "metadata": {},
   "outputs": [],
   "source": [
    "from supabase.client import Client, create_client\n",
    "supabase: Client = create_client(SUPABASE_URL, SUPABASE_SERVICE_KEY)"
   ]
  },
  {
   "cell_type": "code",
   "execution_count": 112,
   "metadata": {},
   "outputs": [],
   "source": [
    "from langchain_community.vectorstores import SupabaseVectorStore\n",
    "\n",
    "vector_store = SupabaseVectorStore.from_documents(\n",
    "    texts,\n",
    "    embeddings,\n",
    "    client=supabase,\n",
    "    table_name=\"documents\",\n",
    "    query_name=\"match_documents\",\n",
    ")"
   ]
  },
  {
   "cell_type": "code",
   "execution_count": 115,
   "metadata": {},
   "outputs": [
    {
     "name": "stdout",
     "output_type": "stream",
     "text": [
      "(Document(metadata={'source': '/Users/sidhantsriv/code/projects/yantra/sample.json', 'seq_num': 2}, page_content='{\"question\": \"What is Pydantic?\", \"tags\": [\"python\", \"validation\", \"models\"], \"answer\": \"Pydantic is a Python library for data validation and settings management using Python type annotations.\"}'), 0.654289083369411)\n"
     ]
    }
   ],
   "source": [
    "query = \"What does pydantic do?\"\n",
    "matched_docs = vector_store.similarity_search_with_relevance_scores(query)\n",
    "\n",
    "print(matched_docs[0])\n",
    "\n"
   ]
  },
  {
   "cell_type": "code",
   "execution_count": null,
   "metadata": {},
   "outputs": [],
   "source": []
  }
 ],
 "metadata": {
  "kernelspec": {
   "display_name": ".venv",
   "language": "python",
   "name": "python3"
  },
  "language_info": {
   "codemirror_mode": {
    "name": "ipython",
    "version": 3
   },
   "file_extension": ".py",
   "mimetype": "text/x-python",
   "name": "python",
   "nbconvert_exporter": "python",
   "pygments_lexer": "ipython3",
   "version": "3.13.1"
  }
 },
 "nbformat": 4,
 "nbformat_minor": 2
}
