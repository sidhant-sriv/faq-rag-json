{
 "cells": [
  {
   "cell_type": "code",
   "execution_count": 34,
   "metadata": {},
   "outputs": [],
   "source": [
    "from langchain_community.document_loaders import JSONLoader\n"
   ]
  },
  {
   "cell_type": "code",
   "execution_count": 35,
   "metadata": {},
   "outputs": [],
   "source": [
    "loader = JSONLoader(\n",
    "    file_path='sample.json',\n",
    "    text_content=False,\n",
    "    jq_schema='.faqs[]')\n",
    "\n",
    "data = loader.load()"
   ]
  },
  {
   "cell_type": "code",
   "execution_count": 36,
   "metadata": {},
   "outputs": [
    {
     "name": "stdout",
     "output_type": "stream",
     "text": [
      "188\n",
      "194\n",
      "286\n",
      "241\n",
      "272\n"
     ]
    }
   ],
   "source": [
    "for i in range(len(data)):\n",
    "    print(len(data[i].page_content))"
   ]
  },
  {
   "cell_type": "code",
   "execution_count": 37,
   "metadata": {},
   "outputs": [],
   "source": [
    "from langchain_text_splitters import CharacterTextSplitter, RecursiveCharacterTextSplitter\n",
    "\n",
    "# splitter = RecursiveJsonSplitter(max_chunk_size=300)\n",
    "splitter = CharacterTextSplitter(chunk_overlap=0, chunk_size=300)"
   ]
  },
  {
   "cell_type": "code",
   "execution_count": 38,
   "metadata": {},
   "outputs": [
    {
     "data": {
      "text/plain": [
       "[Document(metadata={'source': '/Users/sidhantsriv/code/projects/yantra/sample.json', 'seq_num': 1}, page_content='{\"question\": \"What is Python?\", \"tags\": [\"programming\", \"python\", \"basics\"], \"answer\": \"Python is a high-level, interpreted programming language known for its simplicity and versatility.\"}'), Document(metadata={'source': '/Users/sidhantsriv/code/projects/yantra/sample.json', 'seq_num': 2}, page_content='{\"question\": \"What is Pydantic?\", \"tags\": [\"python\", \"validation\", \"models\"], \"answer\": \"Pydantic is a Python library for data validation and settings management using Python type annotations.\"}'), Document(metadata={'source': '/Users/sidhantsriv/code/projects/yantra/sample.json', 'seq_num': 3}, page_content='{\"question\": \"How do I create a virtual environment in Python?\", \"tags\": [\"python\", \"virtualenv\", \"environment\"], \"answer\": \"You can create a virtual environment in Python by running `python -m venv <env_name>` and activating it using the respective command for your operating system.\"}'), Document(metadata={'source': '/Users/sidhantsriv/code/projects/yantra/sample.json', 'seq_num': 4}, page_content='{\"question\": \"What is JSON?\", \"tags\": [\"json\", \"data\", \"format\"], \"answer\": \"JSON (JavaScript Object Notation) is a lightweight data-interchange format that is easy for humans to read and write, and easy for machines to parse and generate.\"}'), Document(metadata={'source': '/Users/sidhantsriv/code/projects/yantra/sample.json', 'seq_num': 5}, page_content='{\"question\": \"What is an API?\", \"tags\": [\"api\", \"web\", \"interface\"], \"answer\": \"An API (Application Programming Interface) is a set of rules and protocols for building and interacting with software applications, allowing different systems to communicate with each other.\"}')]"
      ]
     },
     "execution_count": 38,
     "metadata": {},
     "output_type": "execute_result"
    }
   ],
   "source": [
    "data"
   ]
  },
  {
   "cell_type": "code",
   "execution_count": 39,
   "metadata": {},
   "outputs": [],
   "source": [
    "texts = splitter.split_documents(data)"
   ]
  },
  {
   "cell_type": "code",
   "execution_count": 40,
   "metadata": {},
   "outputs": [
    {
     "data": {
      "text/plain": [
       "[Document(metadata={'source': '/Users/sidhantsriv/code/projects/yantra/sample.json', 'seq_num': 1}, page_content='{\"question\": \"What is Python?\", \"tags\": [\"programming\", \"python\", \"basics\"], \"answer\": \"Python is a high-level, interpreted programming language known for its simplicity and versatility.\"}'), Document(metadata={'source': '/Users/sidhantsriv/code/projects/yantra/sample.json', 'seq_num': 2}, page_content='{\"question\": \"What is Pydantic?\", \"tags\": [\"python\", \"validation\", \"models\"], \"answer\": \"Pydantic is a Python library for data validation and settings management using Python type annotations.\"}'), Document(metadata={'source': '/Users/sidhantsriv/code/projects/yantra/sample.json', 'seq_num': 3}, page_content='{\"question\": \"How do I create a virtual environment in Python?\", \"tags\": [\"python\", \"virtualenv\", \"environment\"], \"answer\": \"You can create a virtual environment in Python by running `python -m venv <env_name>` and activating it using the respective command for your operating system.\"}'), Document(metadata={'source': '/Users/sidhantsriv/code/projects/yantra/sample.json', 'seq_num': 4}, page_content='{\"question\": \"What is JSON?\", \"tags\": [\"json\", \"data\", \"format\"], \"answer\": \"JSON (JavaScript Object Notation) is a lightweight data-interchange format that is easy for humans to read and write, and easy for machines to parse and generate.\"}'), Document(metadata={'source': '/Users/sidhantsriv/code/projects/yantra/sample.json', 'seq_num': 5}, page_content='{\"question\": \"What is an API?\", \"tags\": [\"api\", \"web\", \"interface\"], \"answer\": \"An API (Application Programming Interface) is a set of rules and protocols for building and interacting with software applications, allowing different systems to communicate with each other.\"}')]"
      ]
     },
     "execution_count": 40,
     "metadata": {},
     "output_type": "execute_result"
    }
   ],
   "source": [
    "texts"
   ]
  },
  {
   "cell_type": "code",
   "execution_count": 41,
   "metadata": {},
   "outputs": [],
   "source": [
    "import os\n",
    "from dotenv import load_dotenv\n",
    "\n",
    "load_dotenv()\n",
    "COHERE_API = os.environ.get(\"COHERE_API\")\n",
    "SUPABASE_SERVICE_KEY=os.environ.get(\"SUPABASE_SERVICE_KEY\")\n",
    "SUPABASE_URL=\"https://uggjxkgfewdwgxbdivox.supabase.co\"\n",
    "GROQ_API_KEY=os.environ.get(\"GROQ_API_KEY\")\n",
    "\n"
   ]
  },
  {
   "cell_type": "code",
   "execution_count": 42,
   "metadata": {},
   "outputs": [],
   "source": [
    "from langchain_cohere import CohereEmbeddings\n",
    "\n",
    "embeddings = CohereEmbeddings(cohere_api_key=COHERE_API,model=\"embed-english-v3.0\")\n"
   ]
  },
  {
   "cell_type": "code",
   "execution_count": 43,
   "metadata": {},
   "outputs": [],
   "source": [
    "from supabase.client import Client, create_client\n",
    "supabase: Client = create_client(SUPABASE_URL, SUPABASE_SERVICE_KEY)"
   ]
  },
  {
   "cell_type": "code",
   "execution_count": 44,
   "metadata": {},
   "outputs": [],
   "source": [
    "from langchain_community.vectorstores import SupabaseVectorStore\n",
    "from langchain.retrievers import EnsembleRetriever\n",
    "from langchain_community.retrievers import BM25Retriever\n",
    "\n",
    "bm25_retriever = BM25Retriever.from_documents(\n",
    "    texts\n",
    ")\n",
    "bm25_retriever.k = 2\n",
    "vector_store = SupabaseVectorStore.from_documents(\n",
    "    texts,\n",
    "    embeddings,\n",
    "    client=supabase,\n",
    "    table_name=\"documents\",\n",
    "    query_name=\"match_documents\",\n",
    ")\n",
    "ensemble_retriever = EnsembleRetriever(\n",
    "    retrievers=[bm25_retriever, vector_store.as_retriever()], weights=[0.5, 0.5]\n",
    ")"
   ]
  },
  {
   "cell_type": "code",
   "execution_count": 45,
   "metadata": {},
   "outputs": [
    {
     "name": "stdout",
     "output_type": "stream",
     "text": [
      "(Document(metadata={'source': '/Users/sidhantsriv/code/projects/yantra/sample.json', 'seq_num': 2}, page_content='{\"question\": \"What is Pydantic?\", \"tags\": [\"python\", \"validation\", \"models\"], \"answer\": \"Pydantic is a Python library for data validation and settings management using Python type annotations.\"}'), 0.654289083369411)\n"
     ]
    }
   ],
   "source": [
    "query = \"What does pydantic do?\"\n",
    "matched_docs = vector_store.similarity_search_with_relevance_scores(query)\n",
    "\n",
    "print(matched_docs[0])\n",
    "\n"
   ]
  },
  {
   "cell_type": "code",
   "execution_count": 46,
   "metadata": {},
   "outputs": [],
   "source": [
    "from langchain_groq import ChatGroq\n",
    "llm = ChatGroq(\n",
    "    model=\"mixtral-8x7b-32768\",\n",
    "    temperature=0.0,\n",
    "    max_retries=2,\n",
    ")"
   ]
  },
  {
   "cell_type": "code",
   "execution_count": 75,
   "metadata": {},
   "outputs": [
    {
     "name": "stderr",
     "output_type": "stream",
     "text": [
      "/Users/sidhantsriv/code/projects/yantra/.venv/lib/python3.13/site-packages/langsmith/client.py:256: LangSmithMissingAPIKeyWarning: API key must be provided when using hosted LangSmith API\n",
      "  warnings.warn(\n"
     ]
    }
   ],
   "source": [
    "from langchain.chains import RetrievalQA\n",
    "from langchain.prompts import PromptTemplate\n",
    "from langchain import hub\n",
    "# prompt_template = \"\"\"As a {persona}, use the following pieces of context to answer the question at the end. \n",
    "# If you don't know the answer, just say that you don't know, don't try to make up an answer or give anything other than the relevant information. \n",
    "# {context} \n",
    "# Question: {query} \n",
    "# Helpful Answer:\"\"\"\n",
    "\n",
    "# PROMPT = PromptTemplate(\n",
    "#     template=prompt_template,\n",
    "#     input_variables=[\"persona\", \"context\", \"query\"]\n",
    "# )\n",
    "\n",
    "PROMPT = hub.pull(\"rlm/rag-prompt\")\n",
    "\n",
    "qa = RetrievalQA.from_chain_type(llm=llm, chain_type=\"stuff\",retriever=ensemble_retriever, chain_type_kwargs={\"prompt\": PROMPT})"
   ]
  },
  {
   "cell_type": "code",
   "execution_count": 85,
   "metadata": {},
   "outputs": [
    {
     "name": "stdout",
     "output_type": "stream",
     "text": [
      "{'query': 'What is pydantic', 'context': \"You are an FAQ assistant. Do not give anything irrelevant. If it doesn't exist in the context, do not return it\", 'result': \"Pydantic is a Python library for data validation and settings management, using Python type annotations. It's not the same as Python, which is a high-level programming language, or JSON, a lightweight data-interchange format, but it can be used with both for handling data in a structured and controlled way.\"}\n"
     ]
    }
   ],
   "source": [
    "response = qa({\n",
    "    \"query\": \"What is pydantic\",\n",
    "\n",
    "    \"context\": \"You are an FAQ assistant. Do not give anything irrelevant. If it doesn't exist in the context, do not return it\"\n",
    "})\n",
    "print(response)"
   ]
  },
  {
   "cell_type": "code",
   "execution_count": 86,
   "metadata": {},
   "outputs": [
    {
     "data": {
      "text/plain": [
       "\"Pydantic is a Python library for data validation and settings management, using Python type annotations. It's not the same as Python, which is a high-level programming language, or JSON, a lightweight data-interchange format, but it can be used with both for handling data in a structured and controlled way.\""
      ]
     },
     "execution_count": 86,
     "metadata": {},
     "output_type": "execute_result"
    }
   ],
   "source": [
    "response['result']\n"
   ]
  },
  {
   "cell_type": "code",
   "execution_count": 87,
   "metadata": {},
   "outputs": [
    {
     "data": {
      "text/plain": [
       "ChatPromptTemplate(input_variables=['context', 'question'], input_types={}, partial_variables={}, metadata={'lc_hub_owner': 'rlm', 'lc_hub_repo': 'rag-prompt', 'lc_hub_commit_hash': '50442af133e61576e74536c6556cefe1fac147cad032f4377b60c436e6cdcb6e'}, messages=[HumanMessagePromptTemplate(prompt=PromptTemplate(input_variables=['context', 'question'], input_types={}, partial_variables={}, template=\"You are an assistant for question-answering tasks. Use the following pieces of retrieved context to answer the question. If you don't know the answer, just say that you don't know. Use three sentences maximum and keep the answer concise.\\nQuestion: {question} \\nContext: {context} \\nAnswer:\"), additional_kwargs={})])"
      ]
     },
     "execution_count": 87,
     "metadata": {},
     "output_type": "execute_result"
    }
   ],
   "source": [
    "PROMPT"
   ]
  }
 ],
 "metadata": {
  "kernelspec": {
   "display_name": ".venv",
   "language": "python",
   "name": "python3"
  },
  "language_info": {
   "codemirror_mode": {
    "name": "ipython",
    "version": 3
   },
   "file_extension": ".py",
   "mimetype": "text/x-python",
   "name": "python",
   "nbconvert_exporter": "python",
   "pygments_lexer": "ipython3",
   "version": "3.13.1"
  }
 },
 "nbformat": 4,
 "nbformat_minor": 2
}
