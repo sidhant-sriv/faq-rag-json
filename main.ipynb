{
 "cells": [
  {
   "cell_type": "code",
   "execution_count": 21,
   "metadata": {},
   "outputs": [],
   "source": [
    "from langchain_community.document_loaders import JSONLoader\n"
   ]
  },
  {
   "cell_type": "code",
   "execution_count": 22,
   "metadata": {},
   "outputs": [],
   "source": [
    "loader = JSONLoader(\n",
    "    file_path='data.json',\n",
    "    text_content=False,\n",
    "    jq_schema='.faqs[]')\n",
    "\n",
    "data = loader.load()"
   ]
  },
  {
   "cell_type": "code",
   "execution_count": 23,
   "metadata": {},
   "outputs": [
    {
     "name": "stdout",
     "output_type": "stream",
     "text": [
      "376\n"
     ]
    }
   ],
   "source": [
    "max_length_doc = max(data, key=lambda doc: len(doc.page_content))\n",
    "\n",
    "print(len(max_length_doc.page_content))"
   ]
  },
  {
   "cell_type": "code",
   "execution_count": 24,
   "metadata": {},
   "outputs": [],
   "source": [
    "from langchain_text_splitters import CharacterTextSplitter, RecursiveCharacterTextSplitter\n",
    "\n",
    "# splitter = RecursiveJsonSplitter(max_chunk_size=300)\n",
    "splitter = CharacterTextSplitter(chunk_overlap=0, chunk_size=300)"
   ]
  },
  {
   "cell_type": "code",
   "execution_count": 92,
   "metadata": {},
   "outputs": [
    {
     "data": {
      "text/plain": [
       "[Document(metadata={'source': '/Users/sidhantsriv/code/projects/yantra/sample.json', 'seq_num': 1}, page_content='{\"question\": \"What is Python?\", \"tags\": [\"programming\", \"python\", \"basics\"], \"answer\": \"Python is a high-level, interpreted programming language known for its simplicity and versatility.\"}'), Document(metadata={'source': '/Users/sidhantsriv/code/projects/yantra/sample.json', 'seq_num': 2}, page_content='{\"question\": \"What is Pydantic?\", \"tags\": [\"python\", \"validation\", \"models\"], \"answer\": \"Pydantic is a Python library for data validation and settings management using Python type annotations.\"}'), Document(metadata={'source': '/Users/sidhantsriv/code/projects/yantra/sample.json', 'seq_num': 3}, page_content='{\"question\": \"How do I create a virtual environment in Python?\", \"tags\": [\"python\", \"virtualenv\", \"environment\"], \"answer\": \"You can create a virtual environment in Python by running `python -m venv <env_name>` and activating it using the respective command for your operating system.\"}'), Document(metadata={'source': '/Users/sidhantsriv/code/projects/yantra/sample.json', 'seq_num': 4}, page_content='{\"question\": \"What is JSON?\", \"tags\": [\"json\", \"data\", \"format\"], \"answer\": \"JSON (JavaScript Object Notation) is a lightweight data-interchange format that is easy for humans to read and write, and easy for machines to parse and generate.\"}'), Document(metadata={'source': '/Users/sidhantsriv/code/projects/yantra/sample.json', 'seq_num': 5}, page_content='{\"question\": \"What is an API?\", \"tags\": [\"api\", \"web\", \"interface\"], \"answer\": \"An API (Application Programming Interface) is a set of rules and protocols for building and interacting with software applications, allowing different systems to communicate with each other.\"}')]"
      ]
     },
     "execution_count": 92,
     "metadata": {},
     "output_type": "execute_result"
    }
   ],
   "source": [
    "data"
   ]
  },
  {
   "cell_type": "code",
   "execution_count": 93,
   "metadata": {},
   "outputs": [],
   "source": [
    "texts = splitter.split_documents(data)"
   ]
  },
  {
   "cell_type": "code",
   "execution_count": 40,
   "metadata": {},
   "outputs": [
    {
     "data": {
      "text/plain": [
       "[Document(metadata={'source': '/Users/sidhantsriv/code/projects/yantra/sample.json', 'seq_num': 1}, page_content='{\"question\": \"What is Python?\", \"tags\": [\"programming\", \"python\", \"basics\"], \"answer\": \"Python is a high-level, interpreted programming language known for its simplicity and versatility.\"}'), Document(metadata={'source': '/Users/sidhantsriv/code/projects/yantra/sample.json', 'seq_num': 2}, page_content='{\"question\": \"What is Pydantic?\", \"tags\": [\"python\", \"validation\", \"models\"], \"answer\": \"Pydantic is a Python library for data validation and settings management using Python type annotations.\"}'), Document(metadata={'source': '/Users/sidhantsriv/code/projects/yantra/sample.json', 'seq_num': 3}, page_content='{\"question\": \"How do I create a virtual environment in Python?\", \"tags\": [\"python\", \"virtualenv\", \"environment\"], \"answer\": \"You can create a virtual environment in Python by running `python -m venv <env_name>` and activating it using the respective command for your operating system.\"}'), Document(metadata={'source': '/Users/sidhantsriv/code/projects/yantra/sample.json', 'seq_num': 4}, page_content='{\"question\": \"What is JSON?\", \"tags\": [\"json\", \"data\", \"format\"], \"answer\": \"JSON (JavaScript Object Notation) is a lightweight data-interchange format that is easy for humans to read and write, and easy for machines to parse and generate.\"}'), Document(metadata={'source': '/Users/sidhantsriv/code/projects/yantra/sample.json', 'seq_num': 5}, page_content='{\"question\": \"What is an API?\", \"tags\": [\"api\", \"web\", \"interface\"], \"answer\": \"An API (Application Programming Interface) is a set of rules and protocols for building and interacting with software applications, allowing different systems to communicate with each other.\"}')]"
      ]
     },
     "execution_count": 40,
     "metadata": {},
     "output_type": "execute_result"
    }
   ],
   "source": [
    "texts"
   ]
  },
  {
   "cell_type": "code",
   "execution_count": 25,
   "metadata": {},
   "outputs": [],
   "source": [
    "import os\n",
    "from dotenv import load_dotenv\n",
    "\n",
    "load_dotenv()\n",
    "COHERE_API = os.environ.get(\"COHERE_API\")\n",
    "SUPABASE_SERVICE_KEY=os.environ.get(\"SUPABASE_SERVICE_KEY\")\n",
    "SUPABASE_URL=\"https://uggjxkgfewdwgxbdivox.supabase.co\"\n",
    "GROQ_API_KEY=os.environ.get(\"GROQ_API_KEY\")\n",
    "\n"
   ]
  },
  {
   "cell_type": "code",
   "execution_count": 34,
   "metadata": {},
   "outputs": [],
   "source": [
    "from langchain_cohere import CohereEmbeddings\n",
    "\n",
    "embeddings = CohereEmbeddings(cohere_api_key=COHERE_API,model=\"embed-english-v3.0\")\n"
   ]
  },
  {
   "cell_type": "code",
   "execution_count": 27,
   "metadata": {},
   "outputs": [],
   "source": [
    "from supabase.client import Client, create_client\n",
    "supabase: Client = create_client(SUPABASE_URL, SUPABASE_SERVICE_KEY)"
   ]
  },
  {
   "cell_type": "code",
   "execution_count": 97,
   "metadata": {},
   "outputs": [],
   "source": [
    "from langchain_community.vectorstores import SupabaseVectorStore\n",
    "from langchain.retrievers import EnsembleRetriever\n",
    "from langchain_community.retrievers import BM25Retriever\n",
    "\n",
    "bm25_retriever = BM25Retriever.from_documents(\n",
    "    texts\n",
    ")\n",
    "bm25_retriever.k = 2\n",
    "vector_store = SupabaseVectorStore.from_documents(\n",
    "    texts,\n",
    "    embeddings,\n",
    "    client=supabase,\n",
    "    table_name=\"documents\",\n",
    "    query_name=\"match_documents\",\n",
    ")\n",
    "ensemble_retriever = EnsembleRetriever(\n",
    "    retrievers=[bm25_retriever, vector_store.as_retriever()], weights=[0.5, 0.5]\n",
    ")"
   ]
  },
  {
   "cell_type": "code",
   "execution_count": 98,
   "metadata": {},
   "outputs": [
    {
     "name": "stdout",
     "output_type": "stream",
     "text": [
      "(Document(metadata={'source': '/Users/sidhantsriv/code/projects/yantra/sample.json', 'seq_num': 2}, page_content='{\"question\": \"What is Pydantic?\", \"tags\": [\"python\", \"validation\", \"models\"], \"answer\": \"Pydantic is a Python library for data validation and settings management using Python type annotations.\"}'), 0.654289083369411)\n"
     ]
    }
   ],
   "source": [
    "query = \"What does pydantic do?\"\n",
    "matched_docs = vector_store.similarity_search_with_relevance_scores(query)\n",
    "\n",
    "print(matched_docs[0])\n",
    "\n"
   ]
  },
  {
   "cell_type": "code",
   "execution_count": 99,
   "metadata": {},
   "outputs": [],
   "source": [
    "from langchain_groq import ChatGroq\n",
    "llm = ChatGroq(\n",
    "    model=\"mixtral-8x7b-32768\",\n",
    "    temperature=0.0,\n",
    "    max_retries=2,\n",
    ")"
   ]
  },
  {
   "cell_type": "code",
   "execution_count": 100,
   "metadata": {},
   "outputs": [
    {
     "name": "stderr",
     "output_type": "stream",
     "text": [
      "/Users/sidhantsriv/code/projects/yantra/.venv/lib/python3.13/site-packages/langsmith/client.py:256: LangSmithMissingAPIKeyWarning: API key must be provided when using hosted LangSmith API\n",
      "  warnings.warn(\n"
     ]
    }
   ],
   "source": [
    "from langchain.chains import RetrievalQA\n",
    "from langchain.prompts import PromptTemplate\n",
    "from langchain import hub\n",
    "# prompt_template = \"\"\"As a {persona}, use the following pieces of context to answer the question at the end. \n",
    "# If you don't know the answer, just say that you don't know, don't try to make up an answer or give anything other than the relevant information. \n",
    "# {context} \n",
    "# Question: {query} \n",
    "# Helpful Answer:\"\"\"\n",
    "\n",
    "# PROMPT = PromptTemplate(\n",
    "#     template=prompt_template,\n",
    "#     input_variables=[\"persona\", \"context\", \"query\"]\n",
    "# )\n",
    "\n",
    "PROMPT = hub.pull(\"rlm/rag-prompt\")\n",
    "\n",
    "qa = RetrievalQA.from_chain_type(llm=llm, chain_type=\"stuff\",retriever=ensemble_retriever, chain_type_kwargs={\"prompt\": PROMPT})"
   ]
  },
  {
   "cell_type": "code",
   "execution_count": 101,
   "metadata": {},
   "outputs": [
    {
     "name": "stdout",
     "output_type": "stream",
     "text": [
      "{'query': 'What is pydantic', 'context': \"You are an FAQ assistant. Do not give anything irrelevant. If it doesn't exist in the context, do not return it\", 'result': \"Pydantic is a Python library that uses type annotations for data validation and settings management. It's not a basic programming language like Python, but rather a tool to ensure data accuracy and structure in your Python code, similar to how JSON is a lightweight data format for data interchange.\"}\n"
     ]
    }
   ],
   "source": [
    "response = qa({\n",
    "    \"query\": \"What is pydantic\",\n",
    "\n",
    "    \"context\": \"You are an FAQ assistant. Do not give anything irrelevant. If it doesn't exist in the context, do not return it\"\n",
    "})\n",
    "print(response)"
   ]
  },
  {
   "cell_type": "code",
   "execution_count": 86,
   "metadata": {},
   "outputs": [
    {
     "data": {
      "text/plain": [
       "\"Pydantic is a Python library for data validation and settings management, using Python type annotations. It's not the same as Python, which is a high-level programming language, or JSON, a lightweight data-interchange format, but it can be used with both for handling data in a structured and controlled way.\""
      ]
     },
     "execution_count": 86,
     "metadata": {},
     "output_type": "execute_result"
    }
   ],
   "source": [
    "response['result']\n"
   ]
  },
  {
   "cell_type": "code",
   "execution_count": 20,
   "metadata": {},
   "outputs": [
    {
     "name": "stderr",
     "output_type": "stream",
     "text": [
      "Created a chunk of size 324, which is longer than the specified 300\n",
      "Created a chunk of size 322, which is longer than the specified 300\n"
     ]
    },
    {
     "data": {
      "text/plain": [
       "6"
      ]
     },
     "execution_count": 20,
     "metadata": {},
     "output_type": "execute_result"
    }
   ],
   "source": [
    "from langchain.document_loaders import TextLoader\n",
    "\n",
    "text_loader = TextLoader(\"./context.txt\")\n",
    "texts = text_loader.load()\n",
    "splitter_r = RecursiveCharacterTextSplitter(chunk_size=400)\n",
    "d = splitter.transform_documents(texts)\n"
   ]
  },
  {
   "cell_type": "code",
   "execution_count": 38,
   "metadata": {},
   "outputs": [
    {
     "name": "stderr",
     "output_type": "stream",
     "text": [
      "/var/folders/4k/f_q98g99341bkq6dcfkvt50h0000gn/T/ipykernel_61470/2965061634.py:6: RuntimeWarning: coroutine 'VectorStore.aadd_documents' was never awaited\n",
      "  vector_store = SupabaseVectorStore.from_documents(\n",
      "RuntimeWarning: Enable tracemalloc to get the object allocation traceback\n"
     ]
    }
   ],
   "source": [
    "from langchain_community.vectorstores import SupabaseVectorStore\n",
    "from langchain.retrievers import EnsembleRetriever\n",
    "from langchain_community.retrievers import BM25Retriever\n",
    "\n",
    "supabase: Client = create_client(SUPABASE_URL, SUPABASE_SERVICE_KEY)\n",
    "vector_store = SupabaseVectorStore.from_documents(\n",
    "    d,\n",
    "    embeddings,\n",
    "    client=supabase,\n",
    "    table_name=\"documents\",\n",
    "    query_name=\"match_documents\",\n",
    ")"
   ]
  },
  {
   "cell_type": "code",
   "execution_count": 31,
   "metadata": {},
   "outputs": [
    {
     "ename": "AttributeError",
     "evalue": "'coroutine' object has no attribute 'add_documents'",
     "output_type": "error",
     "traceback": [
      "\u001b[0;31m---------------------------------------------------------------------------\u001b[0m",
      "\u001b[0;31mAttributeError\u001b[0m                            Traceback (most recent call last)",
      "Cell \u001b[0;32mIn[31], line 1\u001b[0m\n\u001b[0;32m----> 1\u001b[0m \u001b[43mvector_store\u001b[49m\u001b[38;5;241;43m.\u001b[39;49m\u001b[43madd_documents\u001b[49m(d)\n",
      "\u001b[0;31mAttributeError\u001b[0m: 'coroutine' object has no attribute 'add_documents'"
     ]
    }
   ],
   "source": [
    "vector_store.add_documents(d)"
   ]
  }
 ],
 "metadata": {
  "kernelspec": {
   "display_name": ".venv",
   "language": "python",
   "name": "python3"
  },
  "language_info": {
   "codemirror_mode": {
    "name": "ipython",
    "version": 3
   },
   "file_extension": ".py",
   "mimetype": "text/x-python",
   "name": "python",
   "nbconvert_exporter": "python",
   "pygments_lexer": "ipython3",
   "version": "3.13.1"
  }
 },
 "nbformat": 4,
 "nbformat_minor": 2
}
