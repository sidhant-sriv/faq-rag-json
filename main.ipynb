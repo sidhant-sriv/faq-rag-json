{
 "cells": [
  {
   "cell_type": "code",
   "execution_count": 4,
   "metadata": {},
   "outputs": [],
   "source": [
    "from langchain_community.document_loaders import JSONLoader"
   ]
  },
  {
   "cell_type": "code",
   "execution_count": 5,
   "metadata": {},
   "outputs": [
    {
     "data": {
      "text/plain": [
       "list"
      ]
     },
     "execution_count": 5,
     "metadata": {},
     "output_type": "execute_result"
    }
   ],
   "source": [
    "loader = JSONLoader(\n",
    "    file_path='sample.json',\n",
    "    text_content=False,\n",
    "    jq_schema='.faqs[]')\n",
    "\n",
    "data = loader.load()"
   ]
  },
  {
   "cell_type": "code",
   "execution_count": 6,
   "metadata": {},
   "outputs": [
    {
     "name": "stdout",
     "output_type": "stream",
     "text": [
      "188\n",
      "194\n",
      "286\n",
      "241\n",
      "272\n"
     ]
    }
   ],
   "source": [
    "for i in range(len(data)):\n",
    "    print(len(data[i].page_content))"
   ]
  },
  {
   "cell_type": "code",
   "execution_count": 9,
   "metadata": {},
   "outputs": [],
   "source": [
    "from langchain_text_splitters import CharacterTextSplitter, RecursiveCharacterTextSplitter\n",
    "\n",
    "# splitter = RecursiveJsonSplitter(max_chunk_size=300)\n",
    "splitter = CharacterTextSplitter(chunk_overlap=0, chunk_size=300)"
   ]
  },
  {
   "cell_type": "code",
   "execution_count": 10,
   "metadata": {},
   "outputs": [
    {
     "data": {
      "text/plain": [
       "[Document(metadata={'source': '/Users/sidhantsriv/code/projects/yantra/sample.json', 'seq_num': 1}, page_content='{\"question\": \"What is Python?\", \"tags\": [\"programming\", \"python\", \"basics\"], \"answer\": \"Python is a high-level, interpreted programming language known for its simplicity and versatility.\"}'),\n",
       " Document(metadata={'source': '/Users/sidhantsriv/code/projects/yantra/sample.json', 'seq_num': 2}, page_content='{\"question\": \"What is Pydantic?\", \"tags\": [\"python\", \"validation\", \"models\"], \"answer\": \"Pydantic is a Python library for data validation and settings management using Python type annotations.\"}'),\n",
       " Document(metadata={'source': '/Users/sidhantsriv/code/projects/yantra/sample.json', 'seq_num': 3}, page_content='{\"question\": \"How do I create a virtual environment in Python?\", \"tags\": [\"python\", \"virtualenv\", \"environment\"], \"answer\": \"You can create a virtual environment in Python by running `python -m venv <env_name>` and activating it using the respective command for your operating system.\"}'),\n",
       " Document(metadata={'source': '/Users/sidhantsriv/code/projects/yantra/sample.json', 'seq_num': 4}, page_content='{\"question\": \"What is JSON?\", \"tags\": [\"json\", \"data\", \"format\"], \"answer\": \"JSON (JavaScript Object Notation) is a lightweight data-interchange format that is easy for humans to read and write, and easy for machines to parse and generate.\"}'),\n",
       " Document(metadata={'source': '/Users/sidhantsriv/code/projects/yantra/sample.json', 'seq_num': 5}, page_content='{\"question\": \"What is an API?\", \"tags\": [\"api\", \"web\", \"interface\"], \"answer\": \"An API (Application Programming Interface) is a set of rules and protocols for building and interacting with software applications, allowing different systems to communicate with each other.\"}')]"
      ]
     },
     "execution_count": 10,
     "metadata": {},
     "output_type": "execute_result"
    }
   ],
   "source": [
    "data"
   ]
  },
  {
   "cell_type": "code",
   "execution_count": 11,
   "metadata": {},
   "outputs": [],
   "source": [
    "texts = splitter.split_documents(data)"
   ]
  },
  {
   "cell_type": "code",
   "execution_count": 12,
   "metadata": {},
   "outputs": [
    {
     "data": {
      "text/plain": [
       "[Document(metadata={'source': '/Users/sidhantsriv/code/projects/yantra/sample.json', 'seq_num': 1}, page_content='{\"question\": \"What is Python?\", \"tags\": [\"programming\", \"python\", \"basics\"], \"answer\": \"Python is a high-level, interpreted programming language known for its simplicity and versatility.\"}'),\n",
       " Document(metadata={'source': '/Users/sidhantsriv/code/projects/yantra/sample.json', 'seq_num': 2}, page_content='{\"question\": \"What is Pydantic?\", \"tags\": [\"python\", \"validation\", \"models\"], \"answer\": \"Pydantic is a Python library for data validation and settings management using Python type annotations.\"}'),\n",
       " Document(metadata={'source': '/Users/sidhantsriv/code/projects/yantra/sample.json', 'seq_num': 3}, page_content='{\"question\": \"How do I create a virtual environment in Python?\", \"tags\": [\"python\", \"virtualenv\", \"environment\"], \"answer\": \"You can create a virtual environment in Python by running `python -m venv <env_name>` and activating it using the respective command for your operating system.\"}'),\n",
       " Document(metadata={'source': '/Users/sidhantsriv/code/projects/yantra/sample.json', 'seq_num': 4}, page_content='{\"question\": \"What is JSON?\", \"tags\": [\"json\", \"data\", \"format\"], \"answer\": \"JSON (JavaScript Object Notation) is a lightweight data-interchange format that is easy for humans to read and write, and easy for machines to parse and generate.\"}'),\n",
       " Document(metadata={'source': '/Users/sidhantsriv/code/projects/yantra/sample.json', 'seq_num': 5}, page_content='{\"question\": \"What is an API?\", \"tags\": [\"api\", \"web\", \"interface\"], \"answer\": \"An API (Application Programming Interface) is a set of rules and protocols for building and interacting with software applications, allowing different systems to communicate with each other.\"}')]"
      ]
     },
     "execution_count": 12,
     "metadata": {},
     "output_type": "execute_result"
    }
   ],
   "source": [
    "texts"
   ]
  },
  {
   "cell_type": "code",
   "execution_count": 13,
   "metadata": {},
   "outputs": [],
   "source": [
    "import os\n",
    "from dotenv import load_dotenv\n",
    "\n",
    "load_dotenv()\n",
    "COHERE_API = os.environ.get(\"COHERE_API\")\n",
    "SUPABASE_SERVICE_KEY=os.environ.get(\"SUPABASE_SERVICE_KEY\")\n",
    "SUPABASE_URL=\"https://uggjxkgfewdwgxbdivox.supabase.co\"\n",
    "GROQ_API_KEY=os.environ.get(\"GROQ_API_KEY\")\n",
    "\n"
   ]
  },
  {
   "cell_type": "code",
   "execution_count": 14,
   "metadata": {},
   "outputs": [],
   "source": [
    "from langchain_cohere import CohereEmbeddings\n",
    "\n",
    "embeddings = CohereEmbeddings(cohere_api_key=COHERE_API,model=\"embed-english-v3.0\")\n"
   ]
  },
  {
   "cell_type": "code",
   "execution_count": 15,
   "metadata": {},
   "outputs": [],
   "source": [
    "from supabase.client import Client, create_client\n",
    "supabase: Client = create_client(SUPABASE_URL, SUPABASE_SERVICE_KEY)"
   ]
  },
  {
   "cell_type": "code",
   "execution_count": 28,
   "metadata": {},
   "outputs": [],
   "source": [
    "from langchain_community.vectorstores import SupabaseVectorStore\n",
    "from langchain.retrievers import EnsembleRetriever\n",
    "from langchain_community.retrievers import BM25Retriever\n",
    "\n",
    "bm25_retriever = BM25Retriever.from_documents(\n",
    "    texts\n",
    ")\n",
    "bm25_retriever.k = 2\n",
    "vector_store = SupabaseVectorStore.from_documents(\n",
    "    texts,\n",
    "    embeddings,\n",
    "    client=supabase,\n",
    "    table_name=\"documents\",\n",
    "    query_name=\"match_documents\",\n",
    ")\n",
    "ensemble_retriever = EnsembleRetriever(\n",
    "    retrievers=[bm25_retriever, vector_store.as_retriever()], weights=[0.5, 0.5]\n",
    ")"
   ]
  },
  {
   "cell_type": "code",
   "execution_count": 17,
   "metadata": {},
   "outputs": [
    {
     "name": "stdout",
     "output_type": "stream",
     "text": [
      "(Document(metadata={'source': '/Users/sidhantsriv/code/projects/yantra/sample.json', 'seq_num': 2}, page_content='{\"question\": \"What is Pydantic?\", \"tags\": [\"python\", \"validation\", \"models\"], \"answer\": \"Pydantic is a Python library for data validation and settings management using Python type annotations.\"}'), 0.654289083369411)\n"
     ]
    }
   ],
   "source": [
    "query = \"What does pydantic do?\"\n",
    "matched_docs = vector_store.similarity_search_with_relevance_scores(query)\n",
    "\n",
    "print(matched_docs[0])\n",
    "\n"
   ]
  },
  {
   "cell_type": "code",
   "execution_count": 18,
   "metadata": {},
   "outputs": [],
   "source": [
    "from langchain_groq import ChatGroq\n",
    "llm = ChatGroq(\n",
    "    model=\"mixtral-8x7b-32768\",\n",
    "    temperature=0.0,\n",
    "    max_retries=2,\n",
    ")"
   ]
  },
  {
   "cell_type": "code",
   "execution_count": 29,
   "metadata": {},
   "outputs": [],
   "source": [
    "from langchain.chains import RetrievalQA\n",
    "\n",
    "qa = RetrievalQA.from_chain_type(llm=llm, chain_type=\"stuff\",retriever=ensemble_retriever)"
   ]
  },
  {
   "cell_type": "code",
   "execution_count": 30,
   "metadata": {},
   "outputs": [],
   "source": [
    "x = qa.run(\"Tell me about pydantic\")"
   ]
  },
  {
   "cell_type": "code",
   "execution_count": 31,
   "metadata": {},
   "outputs": [
    {
     "data": {
      "text/plain": [
       "'Pydantic is a Python library for data validation and settings management. It uses Python type annotations to ensure that the data being provided meets certain criteria, which can help to catch errors and ensure data consistency. Pydantic models can be used to define the structure and validation rules for incoming data, such as data received from an API or a user input form. This can help to make it easier to work with data in a Python application, as the data will be in a known, validated state.'"
      ]
     },
     "execution_count": 31,
     "metadata": {},
     "output_type": "execute_result"
    }
   ],
   "source": [
    "x"
   ]
  },
  {
   "cell_type": "code",
   "execution_count": null,
   "metadata": {},
   "outputs": [],
   "source": []
  }
 ],
 "metadata": {
  "kernelspec": {
   "display_name": ".venv",
   "language": "python",
   "name": "python3"
  },
  "language_info": {
   "codemirror_mode": {
    "name": "ipython",
    "version": 3
   },
   "file_extension": ".py",
   "mimetype": "text/x-python",
   "name": "python",
   "nbconvert_exporter": "python",
   "pygments_lexer": "ipython3",
   "version": "3.13.1"
  }
 },
 "nbformat": 4,
 "nbformat_minor": 2
}
